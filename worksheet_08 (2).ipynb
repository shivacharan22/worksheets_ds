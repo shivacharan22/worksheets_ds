{
  "cells": [
    {
      "cell_type": "markdown",
      "metadata": {
        "id": "VtfV8DPZWyvZ"
      },
      "source": [
        "# Worksheet 08\n",
        "\n",
        "Name: shivacharan oruganti\n",
        "UID: U55255882\n",
        "\n",
        "### Topics\n",
        "\n",
        "- Soft Clustering\n",
        "- Clustering Aggregation\n",
        "\n",
        "### Probability Review\n",
        "\n",
        "Read through [the following](https://medium.com/@gallettilance/overview-of-probability-3272b72c82c8)\n",
        "\n",
        "### Soft Clustering\n",
        "\n",
        "We generate 10 data points that come from a normal distribution with mean 5 and variance 1."
      ]
    },
    {
      "cell_type": "code",
      "execution_count": 1,
      "metadata": {
        "colab": {
          "base_uri": "https://localhost:8080/"
        },
        "id": "uXP3PJfFWyvb",
        "outputId": "430ea5c5-f86b-4d8d-dad8-ea03672f8381"
      },
      "outputs": [
        {
          "output_type": "stream",
          "name": "stdout",
          "text": [
            "[4.893348785127524, 3.6484110154602454, 5.726443710886897, 5.323520034640589, 5.861118906065801, 4.643320615759754, 3.7846244260792705, 4.53012269603122, 7.044049530917386, 5.046140739723119]\n"
          ]
        }
      ],
      "source": [
        "import random\n",
        "import numpy as np\n",
        "from sklearn.cluster import KMeans\n",
        "\n",
        "mean = 5\n",
        "stdev = 1\n",
        "\n",
        "s1 = np.random.normal(mean, stdev, 10).tolist()\n",
        "print(s1)"
      ]
    },
    {
      "cell_type": "markdown",
      "metadata": {
        "id": "cOXYhx-KWyvd"
      },
      "source": [
        "a) Generate 10 more data points, this time coming from a normal distribution with mean 8 and variance 1."
      ]
    },
    {
      "cell_type": "code",
      "execution_count": 2,
      "metadata": {
        "colab": {
          "base_uri": "https://localhost:8080/"
        },
        "id": "VsnGbJy3Wyvd",
        "outputId": "6b45a8e8-27da-4bdd-c357-dbf28f4048f1"
      },
      "outputs": [
        {
          "output_type": "stream",
          "name": "stdout",
          "text": [
            "[8.660620189363492, 8.734775393929056, 6.825281450524653, 8.6180475208078, 8.789018921250214, 8.715535557172668, 7.149764548456055, 8.603659001327703, 7.370023297694853, 7.894520795590322]\n"
          ]
        }
      ],
      "source": [
        "s2 = np.random.normal( 8 , 1 , 10 ).tolist()\n",
        "print(s2)"
      ]
    },
    {
      "cell_type": "markdown",
      "metadata": {
        "id": "Vg-Ja6M2Wyvd"
      },
      "source": [
        "b) Flip a fair coin 10 times. If the coin lands on H, then pick the last data point of `c1` and remove it from `c1`, if T then pick the last data point from `c2` and remove it from `c2`. Add these 10 points to a list called `data`."
      ]
    },
    {
      "cell_type": "code",
      "execution_count": 3,
      "metadata": {
        "colab": {
          "base_uri": "https://localhost:8080/"
        },
        "id": "sdBl4pObWyvd",
        "outputId": "56808a04-940e-4141-b8ea-d8d84ae09580"
      },
      "outputs": [
        {
          "output_type": "stream",
          "name": "stdout",
          "text": [
            "[5.046140739723119, 7.894520795590322, 7.370023297694853, 8.603659001327703, 7.044049530917386, 4.53012269603122, 3.7846244260792705, 7.149764548456055, 8.715535557172668, 4.643320615759754]\n"
          ]
        }
      ],
      "source": [
        "data = []\n",
        "for i in range(10):\n",
        "    # flip coin\n",
        "    coin_output = random.choice([0, 1])\n",
        "    if coin_output == 0:\n",
        "        p1 = s1.pop()\n",
        "        data.append(p1)\n",
        "    else:\n",
        "        p2 = s2.pop()\n",
        "        data.append(p2)\n",
        "print(data)"
      ]
    },
    {
      "cell_type": "markdown",
      "metadata": {
        "id": "D-oLjVCoWyvd"
      },
      "source": [
        "c) This `data` is a Gaussian Mixture Distribution with 2 mixture components. Over the next few questions we will walk through the GMM algorithm to see if we can uncover the parameters we used to generate this data. First, please list all these parameters of the GMM that created `data` and the values we know they have."
      ]
    },
    {
      "cell_type": "markdown",
      "metadata": {
        "id": "_T3nF2yfWyvd"
      },
      "source": [
        "mean1 = 5, variance1 = 1\n",
        "mean2 = 8, variance2 = 1"
      ]
    },
    {
      "cell_type": "markdown",
      "metadata": {
        "id": "1v2LlZvyWyvd"
      },
      "source": [
        "d) Let's assume there are two mixture components (note: we could plot the data and make the observation that there are two clusters). The EM algorithm asks us to start with a random `mean_j`, `variance_j`, `P(S_j)` for each component j. One method we could use to find sensible values for these is to apply K means with k=2 here.\n",
        "\n",
        "1. the centroids would be the estimates of the `mean_j`\n",
        "2. the intra-cluster variance could be the estimate of `variance_j`\n",
        "3. the proportion of points in each cluster could be the estimate of `P(S_j)`\n",
        "\n",
        "Go through this process and list the parameter estimates it gives. Are they close or far from the true values?"
      ]
    },
    {
      "cell_type": "code",
      "execution_count": 6,
      "metadata": {
        "colab": {
          "base_uri": "https://localhost:8080/"
        },
        "id": "MAQmFMLxWyve",
        "outputId": "49376749-e323-44c5-b167-19e29de4347a"
      },
      "outputs": [
        {
          "output_type": "stream",
          "name": "stderr",
          "text": [
            "/usr/local/lib/python3.10/dist-packages/sklearn/cluster/_kmeans.py:870: FutureWarning: The default value of `n_init` will change from 10 to 'auto' in 1.4. Set the value of `n_init` explicitly to suppress the warning\n",
            "  warnings.warn(\n"
          ]
        },
        {
          "output_type": "stream",
          "name": "stdout",
          "text": [
            "[5.046140739723119, 4.53012269603122, 3.7846244260792705, 4.643320615759754]\n",
            "[7.894520795590322, 7.370023297694853, 8.603659001327703, 7.044049530917386, 7.149764548456055, 8.715535557172668]\n",
            "P(S_1) = 0.4,  P(S_2) = 0.6\n",
            "mean_1 = 4.501052119398341,  mean_2 = 7.796258788526498\n",
            "var_1 = 0.2078689168111898,  var_2 = 0.44534509439296505\n"
          ]
        }
      ],
      "source": [
        "kmeans = KMeans(2, init='k-means++').fit(X=np.array(data).reshape(-1, 1))\n",
        "\n",
        "s1 = [x[0] for x in filter(lambda x: x[1] == 0, zip(data, kmeans.labels_))]\n",
        "print(s1)\n",
        "s2 = [x[0] for x in filter(lambda x: x[1] == 1, zip(data, kmeans.labels_))]\n",
        "print(s2)\n",
        "\n",
        "prob_s = [ len(s1) / (len(s1) + len(s2)) , len(s2) / (len(s1) + len(s2)) ]\n",
        "mean = [ sum(s1)/len(s1) , sum(s2) / len(s2) ]\n",
        "var = [ sum(map(lambda x : (x - mean[0])**2, s1)) / len(s1) , sum(map(lambda x: (x - mean[1]) ** 2, s2)) / len(s2) ]\n",
        "\n",
        "print(\"P(S_1) = \" + str(prob_s[0]) + \",  P(S_2) = \" + str(prob_s[1]))\n",
        "print(\"mean_1 = \" + str(mean[0]) + \",  mean_2 = \" + str(mean[1]))\n",
        "print(\"var_1 = \" + str(var[0]) + \",  var_2 = \" + str(var[1]))"
      ]
    },
    {
      "cell_type": "markdown",
      "metadata": {
        "id": "gYvC1AfOWyve"
      },
      "source": [
        "The KMeans-derived means are somewhat close to the true values, but the variances are notably smaller than the true variances. This discrepancy can be attributed to the nature of KMeans clustering, which tends to produce spherical clusters, leading to underestimation of the true variances in this case."
      ]
    },
    {
      "cell_type": "markdown",
      "metadata": {
        "id": "gAd8KpvtWyve"
      },
      "source": [
        "e) For each data point, compute `P(S_j | X_i)`. Comment on which cluster you think each point belongs to based on the estimated probabilities. How does that compare to the truth?"
      ]
    },
    {
      "cell_type": "code",
      "execution_count": 8,
      "metadata": {
        "colab": {
          "base_uri": "https://localhost:8080/"
        },
        "id": "QYnbw6pMWyve",
        "outputId": "980bbadf-79e0-412a-a0e4-2415b8b23bbf"
      },
      "outputs": [
        {
          "output_type": "stream",
          "name": "stdout",
          "text": [
            "point =  5.046140739723119\n",
            "probability of observing that point if it came from cluster 0 =  0.06165238434732642\n",
            "probability of observing that point if it came from cluster 1 =  4.6943814744257995e-09\n",
            "point =  7.894520795590322\n",
            "probability of observing that point if it came from cluster 0 =  2.581461824643557e-58\n",
            "probability of observing that point if it came from cluster 1 =  0.8742628004361115\n",
            "point =  7.370023297694853\n",
            "probability of observing that point if it came from cluster 0 =  8.291620977923407e-42\n",
            "probability of observing that point if it came from cluster 1 =  0.5666328619192424\n",
            "point =  8.603659001327703\n",
            "probability of observing that point if it came from cluster 0 =  4.98650596102308e-85\n",
            "probability of observing that point if it came from cluster 1 =  0.17317117646699065\n",
            "point =  7.044049530917386\n",
            "probability of observing that point if it came from cluster 0 =  6.0861326403308e-33\n",
            "probability of observing that point if it came from cluster 1 =  0.21513826489089477\n",
            "point =  4.53012269603122\n",
            "probability of observing that point if it came from cluster 0 =  1.9005246660016253\n",
            "probability of observing that point if it came from cluster 1 =  1.8731458413612665e-12\n",
            "point =  3.7846244260792705\n",
            "probability of observing that point if it came from cluster 0 =  0.005054906453479325\n",
            "probability of observing that point if it came from cluster 1 =  2.1493375396952935e-18\n",
            "point =  7.149764548456055\n",
            "probability of observing that point if it came from cluster 0 =  1.0620948404985004e-35\n",
            "probability of observing that point if it came from cluster 1 =  0.31232653967854207\n",
            "point =  8.715535557172668\n",
            "probability of observing that point if it came from cluster 0 =  1.0511764256811267e-89\n",
            "probability of observing that point if it came from cluster 1 =  0.10640823136570933\n",
            "point =  4.643320615759754\n",
            "probability of observing that point if it came from cluster 0 =  1.51846124453077\n",
            "probability of observing that point if it came from cluster 1 =  1.169848264943342e-11\n",
            "5.046140739723119\n",
            "Probability of coming from S_1 = 0.9999998857859029\n",
            "Probability of coming from S_2 = 1.1421409702051933e-07\n",
            "\n",
            "7.894520795590322\n",
            "Probability of coming from S_1 = 1.968486533916223e-58\n",
            "Probability of coming from S_2 = 1.0\n",
            "\n",
            "7.370023297694853\n",
            "Probability of coming from S_1 = 9.755430173768195e-42\n",
            "Probability of coming from S_2 = 1.0\n",
            "\n",
            "8.603659001327703\n",
            "Probability of coming from S_1 = 1.919682810483415e-84\n",
            "Probability of coming from S_2 = 1.0\n",
            "\n",
            "7.044049530917386\n",
            "Probability of coming from S_1 = 1.8859600649276475e-32\n",
            "Probability of coming from S_2 = 1.0\n",
            "\n",
            "4.53012269603122\n",
            "Probability of coming from S_1 = 0.9999999999985216\n",
            "Probability of coming from S_2 = 1.478391105519776e-12\n",
            "\n",
            "3.7846244260792705\n",
            "Probability of coming from S_1 = 0.9999999999999993\n",
            "Probability of coming from S_2 = 6.377974230015343e-16\n",
            "\n",
            "7.149764548456055\n",
            "Probability of coming from S_1 = 2.2670607106516308e-35\n",
            "Probability of coming from S_2 = 1.0\n",
            "\n",
            "8.715535557172668\n",
            "Probability of coming from S_1 = 6.585808962268398e-89\n",
            "Probability of coming from S_2 = 1.0\n",
            "\n",
            "4.643320615759754\n",
            "Probability of coming from S_1 = 0.9999999999884438\n",
            "Probability of coming from S_2 = 1.1556254094170106e-11\n",
            "\n"
          ]
        }
      ],
      "source": [
        "from scipy.stats import norm\n",
        "\n",
        "prob_s0_x = [] # P(S_0 | X_i)\n",
        "prob_s1_x = [] # P(S_1 | X_i)\n",
        "prob_x = [] # P(X_i)\n",
        "\n",
        "k = 2\n",
        "\n",
        "for p in data:\n",
        "    print(\"point = \", p)\n",
        "    pdf_i = []\n",
        "\n",
        "    for j in range(k):\n",
        "        # P(X_i | S_j)\n",
        "        pdf_i.append(norm.pdf(p, mean[j], var[j]))\n",
        "        print(\"probability of observing that point if it came from cluster \" + str(j) + \" = \", pdf_i[j])\n",
        "        # P(S_j) already computed\n",
        "        prob_s[j]\n",
        "\n",
        "    # P(X_i) = P(S_0)P(X_i | S_0) + P(S_1)P(X_i | S_1)\n",
        "    prob_x = prob_s[0] * pdf_i[0] + prob_s[1] * pdf_i[1]\n",
        "\n",
        "    # P(S_j | X_i) = P(X_i | S_j)P(S_j) / P(X_i)\n",
        "    prob_s0_x.append( pdf_i[0] * prob_s[0] / prob_x )\n",
        "    prob_s1_x.append( pdf_i[1] * prob_s[1] / prob_x )\n",
        "\n",
        "probs = zip(data, prob_s0_x, prob_s1_x)\n",
        "for p in probs:\n",
        "    print(p[0])\n",
        "    print(\"Probability of coming from S_1 = \" + str(p[1]))\n",
        "    print(\"Probability of coming from S_2 = \" + str(p[2]))\n",
        "    print()\n"
      ]
    },
    {
      "cell_type": "markdown",
      "metadata": {
        "id": "B0abW1xrWyve"
      },
      "source": [
        "f) Having computed `P(S_j | X_i)`, update the estimates of `mean_j`, `var_j`, and `P(S_j)`. How different are these values from the original ones you got from K means? briefly comment."
      ]
    },
    {
      "cell_type": "code",
      "execution_count": 11,
      "metadata": {
        "colab": {
          "base_uri": "https://localhost:8080/"
        },
        "id": "cjSfp-TlWyve",
        "outputId": "36e4a38e-fd49-4e1f-8fe0-14abda9e3536"
      },
      "outputs": [
        {
          "output_type": "stream",
          "name": "stdout",
          "text": [
            "P(S_1) = 0.4,  P(S_2) = 0.6\n",
            "mean_1 = 4.501052103833718,  mean_2 = 7.796258736169246\n",
            "var_1 = 0.2078689142633293,  var_2 = 0.4453452299060321\n"
          ]
        }
      ],
      "source": [
        "prob_c = [sum(prob_s0_x)/ len(prob_s0_x), sum(prob_s1_x) / len(prob_s1_x) ]\n",
        "mean = [sum([x[0] * x[1] for x in zip(prob_s0_x, data)]) / sum(prob_s0_x),  sum([x[0] * x[1] for x in zip(prob_s1_x, data)]) / sum(prob_s1_x) ]\n",
        "var = [ sum([prob_s0_x[i] * (data[i] - mean[0])**2 for i in range(len(data))]) / sum(prob_s0_x),\n",
        "    sum([prob_s1_x[i] * (data[i] - mean[1])**2 for i in range(len(data))]) / sum(prob_s1_x)\n",
        "]\n",
        "\n",
        "print(\"P(S_1) = \" + str(prob_s[0]) + \",  P(S_2) = \" + str(prob_s[1]))\n",
        "print(\"mean_1 = \" + str(mean[0]) + \",  mean_2 = \" + str(mean[1]))\n",
        "print(\"var_1 = \" + str(var[0]) + \",  var_2 = \" + str(var[1]))"
      ]
    },
    {
      "cell_type": "markdown",
      "metadata": {
        "id": "J432vIuYWyve"
      },
      "source": [
        "The updated values are relatively close to the initial KMeans estimates. The EM algorithm, of which this is one step, refines initial guesses (like those from KMeans) to better fit the data's distribution."
      ]
    },
    {
      "cell_type": "markdown",
      "metadata": {
        "id": "CNV3aueLWyve"
      },
      "source": [
        "g) Update `P(S_j | X_i)`. Comment on any differences or lack thereof you observe."
      ]
    },
    {
      "cell_type": "code",
      "execution_count": 14,
      "metadata": {
        "colab": {
          "base_uri": "https://localhost:8080/"
        },
        "id": "2vKd_p_XWyve",
        "outputId": "0207b8ba-57dc-47d1-81b7-0fe981dd9b06"
      },
      "outputs": [
        {
          "output_type": "execute_result",
          "data": {
            "text/plain": [
              "[(5.046140739723119, 0.9995703687243499, 0.0004296312756500334),\n",
              " (7.894520795590322, 9.213718975596359e-13, 0.9999999999990786),\n",
              " (7.370023297694853, 3.016869652869186e-09, 0.9999999969831304),\n",
              " (8.603659001327703, 5.303491200391891e-18, 1.0),\n",
              " (7.044049530917386, 3.234188260726116e-07, 0.999999676581174),\n",
              " (4.53012269603122, 0.9999935427405459, 6.457259454203441e-06),\n",
              " (3.7846244260792705, 0.999999949895251, 5.010474905846276e-08),\n",
              " (7.149764548456055, 7.316922597606976e-08, 0.999999926830774),\n",
              " (8.715535557172668, 7.026391121356325e-19, 1.0),\n",
              " (4.643320615759754, 0.9999847031130641, 1.5296886935879454e-05)]"
            ]
          },
          "metadata": {},
          "execution_count": 14
        }
      ],
      "source": [
        "prob_s0_x_updated = []  # P(S_0 | X_i)\n",
        "prob_s1_x_updated = []  # P(S_1 | X_i)\n",
        "\n",
        "for p in data:\n",
        "    # P(X_i | S_j) for both clusters\n",
        "    pdf_s0 = norm.pdf(p, mean[0], np.sqrt(var[0]))\n",
        "    pdf_s1 = norm.pdf(p, mean[1], np.sqrt(var[1]))\n",
        "\n",
        "    # P(X_i) = P(S_0)P(X_i | S_0) + P(S_1)P(X_i | S_1)\n",
        "    prob_x_val = prob_c[0] * pdf_s0 + prob_c[1] * pdf_s1\n",
        "\n",
        "    # P(S_j | X_i) = P(X_i | S_j)P(S_j) / P(X_i)\n",
        "    prob_s0_x_updated.append(pdf_s0 * prob_c[0] / prob_x_val)\n",
        "    prob_s1_x_updated.append(pdf_s1 * prob_c[1] / prob_x_val)\n",
        "\n",
        "updated_probs_without_helper = list(zip(data, prob_s0_x_updated, prob_s1_x_updated))\n",
        "updated_probs_without_helper"
      ]
    },
    {
      "cell_type": "markdown",
      "metadata": {
        "id": "xShl2oSrWyve"
      },
      "source": [
        "Overall, while there are some adjustments in the posterior probabilities due to the updated parameters, the general pattern of cluster assignments remains consistent. This suggests that the updated parameters provide a slightly better fit to the data, refining the probabilities."
      ]
    },
    {
      "cell_type": "markdown",
      "metadata": {
        "id": "pcfQNhUpWyvf"
      },
      "source": [
        "h) Use `P(S_j | X_i)` to create a hard assignment - label each point as belonging to a specific cluster (0 or 1)"
      ]
    },
    {
      "cell_type": "code",
      "execution_count": 15,
      "metadata": {
        "colab": {
          "base_uri": "https://localhost:8080/"
        },
        "id": "xfl45uR5Wyvf",
        "outputId": "0940f281-0676-449c-e5d9-557ba4dd2225"
      },
      "outputs": [
        {
          "output_type": "execute_result",
          "data": {
            "text/plain": [
              "[(5.046140739723119, 0),\n",
              " (7.894520795590322, 1),\n",
              " (7.370023297694853, 1),\n",
              " (8.603659001327703, 1),\n",
              " (7.044049530917386, 1),\n",
              " (4.53012269603122, 0),\n",
              " (3.7846244260792705, 0),\n",
              " (7.149764548456055, 1),\n",
              " (8.715535557172668, 1),\n",
              " (4.643320615759754, 0)]"
            ]
          },
          "metadata": {},
          "execution_count": 15
        }
      ],
      "source": [
        "hard_assignments = [0 if prob_s0_x_val > prob_s1_x_val else 1 for prob_s0_x_val, prob_s1_x_val in zip(prob_s0_x_updated, prob_s1_x_updated)]\n",
        "\n",
        "hard_assigned_data = list(zip(data, hard_assignments))\n",
        "hard_assigned_data"
      ]
    },
    {
      "cell_type": "code",
      "source": [],
      "metadata": {
        "id": "xIjorUVPdGsC"
      },
      "execution_count": null,
      "outputs": []
    }
  ],
  "metadata": {
    "kernelspec": {
      "display_name": "Python 3",
      "language": "python",
      "name": "python3"
    },
    "language_info": {
      "codemirror_mode": {
        "name": "ipython",
        "version": 3
      },
      "file_extension": ".py",
      "mimetype": "text/x-python",
      "name": "python",
      "nbconvert_exporter": "python",
      "pygments_lexer": "ipython3",
      "version": "3.11.1"
    },
    "orig_nbformat": 4,
    "vscode": {
      "interpreter": {
        "hash": "e7370f93d1d0cde622a1f8e1c04877d8463912d04d973331ad4851f04de6915a"
      }
    },
    "colab": {
      "provenance": []
    }
  },
  "nbformat": 4,
  "nbformat_minor": 0
}