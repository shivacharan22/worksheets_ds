{
  "cells": [
    {
      "cell_type": "markdown",
      "metadata": {
        "id": "LIAgZUW91WF7"
      },
      "source": [
        "# Worksheet 12\n",
        "\n",
        "Name: shivacharan oruganti\n",
        "UID: U55255882\n",
        "\n",
        "### Topics\n",
        "\n",
        "- Introduction to Classification\n",
        "- K Nearest Neighbors\n",
        "\n",
        "### Introduction to Classification\n",
        "\n",
        "a) For the following examples, say whether they are or aren't an example of classification.\n",
        "\n",
        "1. Predicting whether a student will be offered a job after graduating given their GPA.\n",
        "2. Predicting how long it will take (in number of months) for a student to be offered a job after graduating, given their GPA.\n",
        "3. Predicting the number of stars (1-5) a person will assign in their yelp review given the description they wrote in the review.\n",
        "4. Predicting the number of births occuring in a specified minute."
      ]
    },
    {
      "cell_type": "markdown",
      "metadata": {
        "id": "K8iqjZ1I1WF-"
      },
      "source": [
        "1) Yes\n",
        "2) NO\n",
        "3) Yes\n",
        "4) No"
      ]
    },
    {
      "cell_type": "markdown",
      "metadata": {
        "id": "XIJgeTo_1WF-"
      },
      "source": [
        "b) Given a dataset, how would you set things up such that you can both learn a model and get an idea of how this model might perform on data it has never seen?"
      ]
    },
    {
      "cell_type": "markdown",
      "metadata": {
        "id": "2WuFWBsJ1WF-"
      },
      "source": [
        "Spliting dataset into three subsets: a training set for model learning, a validation set for hyperparameter tuning, and a test set for final performance evaluation. After preprocessing the data, which may include cleaning, normalization, and categorical encoding, then train the model on the training set. The validation set helps in fine-tuning hyperparameters and selecting the best-performing model iteration. Finally, the model's performance is assessed on the test set to provide an unbiased estimate of how it might fare on new data. For a more robust performance estimate, we can also employ cross-validation techniques, such as k-fold cross-validation."
      ]
    },
    {
      "cell_type": "markdown",
      "metadata": {
        "id": "AwTeoegd1WF-"
      },
      "source": [
        "c) In your own words, briefly explain:\n",
        "\n",
        "- underfitting\n",
        "- overfitting\n",
        "\n",
        "and what signs to look out for for each."
      ]
    },
    {
      "cell_type": "markdown",
      "metadata": {
        "id": "TeFE2Rln1WF-"
      },
      "source": [
        "Underfitting:\n",
        "When a model is too simple, it misses the data's patterns, performing poorly on both training and new data. Signs include High training error, No improvement with added complexity.\n",
        "\n",
        "Overfitting:\n",
        "A model that's too complex captures data noise, excelling on training data but faltering on new data. Indicators are Low training error but high validation error, poor generalization to new data."
      ]
    },
    {
      "cell_type": "markdown",
      "metadata": {
        "id": "S4gg-2Dv1WF-"
      },
      "source": [
        "### K Nearest Neighbors"
      ]
    },
    {
      "cell_type": "code",
      "execution_count": 1,
      "metadata": {
        "id": "QqAUllUe1WF_"
      },
      "outputs": [],
      "source": [
        "import numpy as np\n",
        "import matplotlib.pyplot as plt\n",
        "\n",
        "data = {\n",
        "    \"Attribute A\" : [3.5, 0, 1, 2.5, 2, 1.5, 2, 3.5, 1, 3, 2, 2, 2.5, 0.5, 0., 10],\n",
        "    \"Attribute B\" : [4, 1.5, 2, 1, 3.5, 2.5, 1, 0, 3, 1.5, 4, 2, 2.5, 0.5, 2.5, 10],\n",
        "    \"Class\" : [1, 0, 1, 0, 1, 0, 1, 0, 1, 0, 1, 0, 0, 1, 1, 0],\n",
        "}"
      ]
    },
    {
      "cell_type": "markdown",
      "metadata": {
        "id": "o4_N3Hr31WF_"
      },
      "source": [
        "a) Plot the data in a 2D plot coloring each scatter point one of two colors depending on its corresponding class."
      ]
    },
    {
      "cell_type": "code",
      "execution_count": 2,
      "metadata": {
        "colab": {
          "base_uri": "https://localhost:8080/",
          "height": 430
        },
        "id": "s6p5b0KJ1WF_",
        "outputId": "6452ce36-a33b-4d7a-ecae-c103de41d0e6"
      },
      "outputs": [
        {
          "output_type": "display_data",
          "data": {
            "text/plain": [
              "<Figure size 640x480 with 1 Axes>"
            ],
            "image/png": "[encoded data removed]"
          },
          "metadata": {}
        }
      ],
      "source": [
        "colors = np.array([x for x in 'bgrcmyk'])\n",
        "plt.scatter(data[\"Attribute A\"], data[\"Attribute B\"], color=colors[data[\"Class\"]].tolist())\n",
        "plt.show()"
      ]
    },
    {
      "cell_type": "markdown",
      "metadata": {
        "id": "Z70lUigs1WGA"
      },
      "source": [
        "Outliers are points that lie far from the rest of the data. They are not necessarily invalid points however. Imagine sampling from a Normal Distribution with mean 10 and variance 1. You would expect most points you sample to be in the range [7, 13] but it's entirely possible to see 20 which, on average, should be very far from the rest of the points in the sample (unless we're VERY (un)lucky). These outliers can inhibit our ability to learn general patterns in the data since they are not representative of likely outcomes. They can still be useful in of themselves and can be analyzed in great depth depending on the problem at hand.\n",
        "\n",
        "b) Are there any points in the dataset that could be outliers? If so, please remove them from the dataset."
      ]
    },
    {
      "cell_type": "markdown",
      "metadata": {
        "id": "cvnRNAQP1WGA"
      },
      "source": [
        "Yes found one outlier."
      ]
    },
    {
      "cell_type": "code",
      "execution_count": 3,
      "metadata": {
        "colab": {
          "base_uri": "https://localhost:8080/"
        },
        "id": "ZzTtJZg11WGA",
        "outputId": "1345ed40-457a-4ed5-887f-519ef3203dac"
      },
      "outputs": [
        {
          "output_type": "execute_result",
          "data": {
            "text/plain": [
              "{'Attribute A': [3.5,\n",
              "  0.0,\n",
              "  1.0,\n",
              "  2.5,\n",
              "  2.0,\n",
              "  1.5,\n",
              "  2.0,\n",
              "  3.5,\n",
              "  1.0,\n",
              "  3.0,\n",
              "  2.0,\n",
              "  2.0,\n",
              "  2.5,\n",
              "  0.5,\n",
              "  0.0],\n",
              " 'Attribute B': [4.0,\n",
              "  1.5,\n",
              "  2.0,\n",
              "  1.0,\n",
              "  3.5,\n",
              "  2.5,\n",
              "  1.0,\n",
              "  0.0,\n",
              "  3.0,\n",
              "  1.5,\n",
              "  4.0,\n",
              "  2.0,\n",
              "  2.5,\n",
              "  0.5,\n",
              "  2.5],\n",
              " 'Class': [1, 0, 1, 0, 1, 0, 1, 0, 1, 0, 1, 0, 0, 1, 1]}"
            ]
          },
          "metadata": {},
          "execution_count": 3
        }
      ],
      "source": [
        "def find_outliers(data):\n",
        "    Q1 = np.percentile(data, 25)\n",
        "    Q3 = np.percentile(data, 75)\n",
        "    IQR = Q3 - Q1\n",
        "    lower_bound = Q1 - 1.5 * IQR\n",
        "    upper_bound = Q3 + 1.5 * IQR\n",
        "    return (data < lower_bound) | (data > upper_bound)\n",
        "\n",
        "outliers_A = find_outliers(data[\"Attribute A\"])\n",
        "outliers_B = find_outliers(data[\"Attribute B\"])\n",
        "\n",
        "combined_outliers = outliers_A | outliers_B\n",
        "\n",
        "# Filter out the outliers\n",
        "filtered_data = {\n",
        "    \"Attribute A\": np.array(data[\"Attribute A\"])[~combined_outliers].tolist(),\n",
        "    \"Attribute B\": np.array(data[\"Attribute B\"])[~combined_outliers].tolist(),\n",
        "    \"Class\": np.array(data[\"Class\"])[~combined_outliers].tolist(),\n",
        "}\n",
        "\n",
        "filtered_data"
      ]
    },
    {
      "cell_type": "markdown",
      "metadata": {
        "id": "Bc1lDvKb1WGA"
      },
      "source": [
        "Noise points are points that could be considered invalid under the general trend in the data. These could be the result of actual errors in the data or randomness that we could attribute to oversimplification (for example if missing some information / feature about each point). Considering noise points in our model can often lead to overfitting.\n",
        "\n",
        "c) Are there any points in the dataset that could be noise points?"
      ]
    },
    {
      "cell_type": "markdown",
      "metadata": {
        "id": "bfogWqGF1WGA"
      },
      "source": [
        "Yes"
      ]
    },
    {
      "cell_type": "markdown",
      "metadata": {
        "id": "sD5wPsy91WGA"
      },
      "source": [
        "For the following point\n",
        "\n",
        "|  A  |  B  |\n",
        "|-----|-----|\n",
        "| 0.5 |  1  |\n",
        "\n",
        "d) Plot it in a different color along with the rest of the points in the dataset."
      ]
    },
    {
      "cell_type": "code",
      "execution_count": 4,
      "metadata": {
        "colab": {
          "base_uri": "https://localhost:8080/",
          "height": 472
        },
        "id": "9YAXSmTA1WGA",
        "outputId": "d748d388-44d3-4d68-bcd7-788d35c69886"
      },
      "outputs": [
        {
          "output_type": "display_data",
          "data": {
            "text/plain": [
              "<Figure size 640x480 with 1 Axes>"
            ],
            "image/png": "[encoded data removed]"
          },
          "metadata": {}
        }
      ],
      "source": [
        "point_A = 0.5\n",
        "point_B = 1\n",
        "\n",
        "# Plotting the dataset along with the given point\n",
        "plt.scatter(filtered_data[\"Attribute A\"], filtered_data[\"Attribute B\"], color=colors[filtered_data[\"Class\"]].tolist(), label='Dataset')\n",
        "plt.scatter(point_A, point_B, color='purple', s=100, label='Given Point', edgecolors='black')\n",
        "plt.xlabel('Attribute A')\n",
        "plt.ylabel('Attribute B')\n",
        "plt.title('Scatter plot of Attribute A vs Attribute B with the Given Point')\n",
        "plt.legend()\n",
        "plt.grid(True)\n",
        "plt.show()"
      ]
    },
    {
      "cell_type": "markdown",
      "metadata": {
        "id": "JStRUJAR1WGA"
      },
      "source": [
        "e) Write a function to compute the Euclidean distance from it to all points in the dataset and pick the 3 closest points to it. In a scatter plot, draw a circle centered around the point with radius the distance of the farthest of the three points."
      ]
    },
    {
      "cell_type": "code",
      "execution_count": 5,
      "metadata": {
        "colab": {
          "base_uri": "https://localhost:8080/",
          "height": 430
        },
        "id": "OAQCCxYu1WGA",
        "outputId": "62e7e7e7-a710-4867-acfb-d6365fa08ca9"
      },
      "outputs": [
        {
          "output_type": "display_data",
          "data": {
            "text/plain": [
              "<Figure size 640x480 with 1 Axes>"
            ],
            "image/png": "[encoded data removed]"
          },
          "metadata": {}
        }
      ],
      "source": [
        "def n_closest_to(example, n):\n",
        "    distances = []\n",
        "\n",
        "    # Calculate Euclidean distance for all points in the dataset\n",
        "    for a, b in zip(filtered_data[\"Attribute A\"], filtered_data[\"Attribute B\"]):\n",
        "        distance = np.sqrt((example[0] - a)**2 + (example[1] - b)**2)\n",
        "        distances.append((a, b, distance))\n",
        "\n",
        "    # Sort the distances and get the top n\n",
        "    sorted_distances = sorted(distances, key=lambda x: x[2])\n",
        "    closest_n = sorted_distances[:n]\n",
        "\n",
        "    return closest_n\n",
        "\n",
        "\n",
        "location = ( 0.5 , 1 )\n",
        "radius = n_closest_to(location, 3)[-1][2]\n",
        "_, axes = plt.subplots()\n",
        "axes.scatter(filtered_data[\"Attribute A\"], filtered_data[\"Attribute B\"], color=colors[filtered_data[\"Class\"]].tolist())\n",
        "cir = plt.Circle(location, radius, fill = False, alpha=0.8)\n",
        "axes.add_patch(cir)\n",
        "axes.set_aspect('equal') # necessary so that the circle is not oval\n",
        "plt.show()"
      ]
    },
    {
      "cell_type": "markdown",
      "metadata": {
        "id": "phTOFhlK1WGA"
      },
      "source": [
        "f) Write a function that takes the three points returned by your function in e) and returns the class that the majority of points have (break ties with a deterministic default class of your choosing). Print the class assigned to this new point by your function."
      ]
    },
    {
      "cell_type": "code",
      "execution_count": 7,
      "metadata": {
        "colab": {
          "base_uri": "https://localhost:8080/"
        },
        "id": "bVtdztnk1WGC",
        "outputId": "bba7ba27-2e5a-40bd-e090-6b40632f9161"
      },
      "outputs": [
        {
          "output_type": "execute_result",
          "data": {
            "text/plain": [
              "1"
            ]
          },
          "metadata": {},
          "execution_count": 7
        }
      ],
      "source": [
        "def majority(points):\n",
        "    # Extract the classes of the given points from the dataset\n",
        "    classes = [filtered_data[\"Class\"][filtered_data[\"Attribute A\"].index(point[0])] for point in points]\n",
        "\n",
        "    # Count the occurrences of each class\n",
        "    class_counts = {cls: classes.count(cls) for cls in set(classes)}\n",
        "\n",
        "    # Return the class with the maximum count or a default class in case of a tie\n",
        "    return max(class_counts, key=class_counts.get, default=1)  # Default to class 1 in case of a tie\n",
        "\n",
        "# Get the majority class for the three closest points\n",
        "assigned_class = majority(n_closest_to(location, 3))\n",
        "assigned_class"
      ]
    },
    {
      "cell_type": "markdown",
      "metadata": {
        "id": "sUsrtv_o1WGC"
      },
      "source": [
        "g) Re-using the functions from e) and f), you should be able to assign a class to any new point. In this exercise we will implement Leave-one-out cross validiation in order to evaluate the performance of our model.\n",
        "\n",
        "For each point in the dataset:\n",
        "\n",
        "- consider that point as your test set and the rest of the data as your training set\n",
        "- classify that point using the training set\n",
        "- keep track of whether you were correct with the use of a counter\n",
        "\n",
        "Once you've iterated through the entire dataset, divide the counter by the number of points in the dataset to report an overall testing accuracy."
      ]
    },
    {
      "cell_type": "code",
      "execution_count": 11,
      "metadata": {
        "colab": {
          "base_uri": "https://localhost:8080/"
        },
        "id": "G2ytkpHT1WGC",
        "outputId": "b835684f-ada7-4361-c6eb-58fcf116507b"
      },
      "outputs": [
        {
          "output_type": "stream",
          "name": "stdout",
          "text": [
            "overall accuracy =  0.8666666666666667\n"
          ]
        }
      ],
      "source": [
        "count = 0\n",
        "\n",
        "for i in range(len(filtered_data[\"Attribute A\"])):\n",
        "    actual_class = filtered_data[\"Class\"][i]\n",
        "\n",
        "\n",
        "    training_set = {\n",
        "        \"Attribute A\": [x for j, x in enumerate(filtered_data[\"Attribute A\"]) if j != i],\n",
        "        \"Attribute B\": [x for j, x in enumerate(filtered_data[\"Attribute B\"]) if j != i],\n",
        "        \"Class\": [x for j, x in enumerate(filtered_data[\"Class\"]) if j != i]\n",
        "    }\n",
        "\n",
        "    # Use the training set for the classification of the current point\n",
        "    example = (filtered_data[\"Attribute A\"][i], filtered_data[\"Attribute B\"][i])\n",
        "    three_closest_points = n_closest_to(example, 3)\n",
        "    prediction = majority(three_closest_points)\n",
        "\n",
        "    if prediction == actual_class:\n",
        "        count += 1\n",
        "\n",
        "print(\"overall accuracy = \", count / len(filtered_data[\"Attribute A\"]))"
      ]
    },
    {
      "cell_type": "code",
      "source": [],
      "metadata": {
        "id": "95xBkV596xmc"
      },
      "execution_count": null,
      "outputs": []
    }
  ],
  "metadata": {
    "interpreter": {
      "hash": "76ca05dc3ea24b2e3b98cdb7774adfbb40773424bf5109b477fd793f623715af"
    },
    "kernelspec": {
      "display_name": "Python 3.9.9 64-bit ('env': venv)",
      "language": "python",
      "name": "python3"
    },
    "language_info": {
      "codemirror_mode": {
        "name": "ipython",
        "version": 3
      },
      "file_extension": ".py",
      "mimetype": "text/x-python",
      "name": "python",
      "nbconvert_exporter": "python",
      "pygments_lexer": "ipython3",
      "version": "3.11.1"
    },
    "orig_nbformat": 4,
    "colab": {
      "provenance": []
    }
  },
  "nbformat": 4,
  "nbformat_minor": 0
}