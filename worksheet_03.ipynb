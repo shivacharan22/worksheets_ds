{
 "cells": [
  {
   "attachments": {},
   "cell_type": "markdown",
   "metadata": {},
   "source": [
    "# Worksheet 03\n",
    "\n",
    "Name:  shivacharan oruganti\n",
    "UID: U55255882\n",
    "\n",
    "### Topics\n",
    "\n",
    "- Intro to DS\n",
    "\n",
    "### Linear Algebra Review\n",
    "\n",
    "If you need a linear algebra review, please read through the [following pdf](https://github.com/gallettilance/CS506-Spring2023/raw/main/worksheets/lecture_03_linear_algebra_review.pdf) before next class\n",
    "\n",
    "### Intro to Data Science\n",
    "\n",
    "a) what property must a hypothesis have?"
   ]
  },
  {
   "attachments": {},
   "cell_type": "markdown",
   "metadata": {},
   "source": [
    "The properties that a hypothesis should have are :\n",
    "Testability\n",
    "Falsifiability\n",
    "Clarity and Specificity\n",
    "Relevance\n",
    "Logical Consistency\n",
    "Testable Variables\n",
    "Empirical Basis\n",
    "Predictive Power"
   ]
  },
  {
   "cell_type": "markdown",
   "metadata": {},
   "source": [
    "b) what examples would you have wanted to try?"
   ]
  },
  {
   "attachments": {},
   "cell_type": "markdown",
   "metadata": {},
   "source": [
    "(100, 102, 104)"
   ]
  },
  {
   "cell_type": "markdown",
   "metadata": {},
   "source": [
    "c) Poll 1"
   ]
  },
  {
   "attachments": {},
   "cell_type": "markdown",
   "metadata": {},
   "source": [
    "A"
   ]
  },
  {
   "cell_type": "markdown",
   "metadata": {},
   "source": [
    "d) Given the hypothesis (x, 2x, 3x), for each of the following, determine whether they are positive or negative examples:\n",
    "\n",
    "- (2, 4, 6)\n",
    "- (6, 8 , 10)\n",
    "- (1, 3, 5)"
   ]
  },
  {
   "attachments": {},
   "cell_type": "markdown",
   "metadata": {},
   "source": [
    "YES - (2, 4, 6)\n",
    "NO  - (6, 8 , 10)\n",
    "NO  - (1, 3, 5)"
   ]
  },
  {
   "cell_type": "markdown",
   "metadata": {},
   "source": [
    "e) Poll 2"
   ]
  },
  {
   "attachments": {},
   "cell_type": "markdown",
   "metadata": {},
   "source": [
    "C"
   ]
  },
  {
   "attachments": {},
   "cell_type": "markdown",
   "metadata": {},
   "source": [
    "f) Describe steps of a Data Science Workflow"
   ]
  },
  {
   "attachments": {},
   "cell_type": "markdown",
   "metadata": {},
   "source": [
    "1)Process Data : In this step we should decide what data should and shouldn’t be used for the task, What to do with missing data, What to do with inconsistent data, What assumptions are you making with the transformations of the data.\n",
    "2)Explore Data : In this step we should describe, contextualize, and visualize the data and think of what might be related to what we're trying to predict and should check for imbalances in the data.\n",
    "3)Extract Features : we should decide if the features provided by the dataset the best features to use for the task if not combine these to make new by transforming and different techniques which can make the predictions better.\n",
    "4)Create Model : According to the observations you have made in the previous steps on data you need to build appropriate model and explain when your model fails also keep it simple."
   ]
  },
  {
   "attachments": {},
   "cell_type": "markdown",
   "metadata": {},
   "source": [
    "g) Give a real world example for each of the following data types:\n",
    "\n",
    "- record\n",
    "- graph\n",
    "- image\n",
    "- text"
   ]
  },
  {
   "attachments": {},
   "cell_type": "markdown",
   "metadata": {},
   "source": [
    "Record:\n",
    "Medical Records: A patient's medical record is a collection of information about their health, including diagnosis, treatment history, medication records, and lab results. It is often stored electronically and used by healthcare professionals to track a patient's health over time.\n",
    "\n",
    "Graph:\n",
    "Social Network Graph: In a social network like Facebook, a graph represents connections between users. Each user is a node, and the connections (friendships) between them are edges in the graph. This graph structure allows for analyzing social relationships and interactions.\n",
    "\n",
    "Image:\n",
    "Satellite Image: Satellite images captured by satellites provide detailed visual data of the Earth's surface. These images are used for various purposes, including weather forecasting, urban planning, environmental monitoring, and disaster management.\n",
    "\n",
    "Text:\n",
    "Blog or email or chat conversation. All of these examples contain text and can be used to analysis for various purposes."
   ]
  },
  {
   "attachments": {},
   "cell_type": "markdown",
   "metadata": {},
   "source": [
    "h) Give a real world example of unsupervised learning"
   ]
  },
  {
   "attachments": {},
   "cell_type": "markdown",
   "metadata": {},
   "source": [
    "Unsupervised learning methods like Clustering, Dimensionality Reduction are used in many places like  anomaly detection in SDN intrusion detection systems where they use clustering to identify the packets which are unusual."
   ]
  },
  {
   "attachments": {},
   "cell_type": "markdown",
   "metadata": {},
   "source": [
    "i) Give a real world example of supervised learning"
   ]
  },
  {
   "attachments": {},
   "cell_type": "markdown",
   "metadata": {},
   "source": [
    "A real world example of supervised learning Email spam detection used by google to classify whether the an email is a spam or not."
   ]
  }
 ],
 "metadata": {
  "kernelspec": {
   "display_name": "Python 3",
   "language": "python",
   "name": "python3"
  },
  "language_info": {
   "codemirror_mode": {
    "name": "ipython",
    "version": 3
   },
   "file_extension": ".py",
   "mimetype": "text/x-python",
   "name": "python",
   "nbconvert_exporter": "python",
   "pygments_lexer": "ipython3",
   "version": "3.11.1 (main, Dec  7 2022, 00:00:00) [GCC 12.2.1 20221121 (Red Hat 12.2.1-4)]"
  },
  "orig_nbformat": 4,
  "vscode": {
   "interpreter": {
    "hash": "e7370f93d1d0cde622a1f8e1c04877d8463912d04d973331ad4851f04de6915a"
   }
  }
 },
 "nbformat": 4,
 "nbformat_minor": 2
}
