{
 "cells": [
  {
   "attachments": {},
   "cell_type": "markdown",
   "metadata": {},
   "source": [
    "# Worksheet 02\n",
    "\n",
    "Name:  shivacharan oruganti\n",
    "UID: U55255882\n",
    "\n",
    "### Topics\n",
    "\n",
    "- Effective Programming\n",
    "\n",
    "### Effective Programming\n",
    "\n",
    "a) What is a drawback of the top down approach?"
   ]
  },
  {
   "attachments": {},
   "cell_type": "markdown",
   "metadata": {},
   "source": [
    "The Drawbacks of the top down approachs are missing the critical implementation details in a deeper level, this approach can lead to inflexible program struture making it less adaptable to changes or unexpected requirements. Hence changes to high level design decisions may require extensive reworking of the lower level components. managing dependencies can become complex. "
   ]
  },
  {
   "cell_type": "markdown",
   "metadata": {},
   "source": [
    "b) What is a drawback of the bottom up approach?"
   ]
  },
  {
   "attachments": {},
   "cell_type": "markdown",
   "metadata": {},
   "source": [
    "when we design from bottom up there is a lack of final goal and direction because we focus on individual components and it will be chanllenging to ensure that these components align with the overall objective of the project. Also when they are developed individually there may arise incompatibilities between components. There may be variations in quality and functionality. "
   ]
  },
  {
   "cell_type": "markdown",
   "metadata": {},
   "source": [
    "c) What are 3 things you can do to have a better debugging experience?"
   ]
  },
  {
   "attachments": {},
   "cell_type": "markdown",
   "metadata": {},
   "source": [
    "1) Dont panic.\n",
    "2) Read the error and your code again (take your time :))\n",
    "3) Dont forget to take breaks (sleep and wake up/ always works)"
   ]
  },
  {
   "attachments": {},
   "cell_type": "markdown",
   "metadata": {},
   "source": [
    "d) Follow along with the live coding. You can write your code here:"
   ]
  },
  {
   "cell_type": "code",
   "execution_count": null,
   "metadata": {},
   "outputs": [],
   "source": [
    "class Board:\n",
    "    \"\"\"A class to represent a chess board with 8 queens on it. \"\"\"\n",
    "    def __init__(self):\n",
    "        \"\"\"Initializes the board with 8 queens on it. \"\"\"\n",
    "        self.board = [[\"_\" for _ in range(8)] for _ in range(8)]\n",
    "\n",
    "    def __repr__(self):\n",
    "        \"\"\"Returns a string representation of the board. \"\"\"\n",
    "        res = \"\"\n",
    "\n",
    "        for row in self.board:\n",
    "            for col in row:\n",
    "                res += col\n",
    "                res += \" \"\n",
    "            res += \"\\n\"\n",
    "        return res\n",
    "\n",
    "    def is_legal_row(self,row,col):\n",
    "        \"\"\"Returns True if there is no queen on the row, False otherwise. \"\"\"\n",
    "        for j in range(len(self.board)):\n",
    "            if self.board[row][j] == \"Q\":\n",
    "                return False\n",
    "        return True\n",
    "\n",
    "    def is_legal_col(self,row,col):\n",
    "        \"\"\"Returns True if there is no queen on the column, False otherwise. \"\"\"\n",
    "        for i in range(len(self.board)):\n",
    "            if self.board[i][col] == \"Q\":\n",
    "                return False\n",
    "        return True\n",
    "\n",
    "    def is_on_board(self,row,col):\n",
    "        \"\"\"Returns True if the position is on the board, False otherwise. \"\"\"\n",
    "        return row >= 0 and row < 8 and col >= 0 and col <8\n",
    "\n",
    "    def is_legal_diag(self,row,col):\n",
    "        \"\"\"Returns True if there is no queen on the diagonal, False otherwise. \"\"\"\n",
    "        for i in range(len(self.board)):\n",
    "            if self.is_on_board(row-i, col-i) and self.board[row-i][col-i] == \"Q\":\n",
    "                return False\n",
    "            if self.is_on_board(row-i, col+i) and self.board[row-i][col+i] == \"Q\":\n",
    "                return False\n",
    "            if self.is_on_board(row+i, col-i) and self.board[row+i][col-i] == \"Q\":\n",
    "                return False\n",
    "            if self.is_on_board(row+i, col+i) and self.board[row+i][col+i] == \"Q\":\n",
    "                return False\n",
    "        return True\n",
    "\n",
    "\n",
    "    def is_legal(self,row,col):\n",
    "        \"\"\"Returns True if the position is legal, False otherwise. \"\"\"\n",
    "        if not self.is_legal_row(row,col):\n",
    "            return False\n",
    "        if not self.is_legal_col(row,col):\n",
    "             return False\n",
    "        if not self.is_legal_diag(row,col):\n",
    "            return False\n",
    "        return True\n",
    "\n",
    "    def set_queen_at(self,row,col):\n",
    "        \"\"\"Sets a queen at the given position. \"\"\"\n",
    "        self.board[row][col] = \"Q\"\n",
    "\n",
    "    def unset_queen_on(self,row):\n",
    "        \"\"\"Unsets a queen on the given row. \"\"\"\n",
    "        self.board[row] = [\"_\" for _ in range(8)]\n",
    "\n",
    "    def get_queen_on(self,row):\n",
    "        \"\"\"Returns the column of the queen on the given row. \"\"\"\n",
    "        for col in range(len(self.board)):\n",
    "            if self.board[row][col] == \"Q\":\n",
    "                return col\n",
    "        raise ValueError(\"Programming error\")\n",
    "\n",
    "    def search(self):\n",
    "        \"\"\"Searches for a solution. \"\"\"\n",
    "        row = 0\n",
    "        col = 0\n",
    "\n",
    "        while row >= 0:\n",
    "            if row < 8:\n",
    "                if self.is_legal(row,col):\n",
    "                    self.set_queen_at(row,col)\n",
    "                    row += 1\n",
    "                    col = 0\n",
    "                else:\n",
    "                    col +=1\n",
    "                    while col >= 8:\n",
    "                        col = self.get_queen_on(row-1)\n",
    "                        self.unset_queen_on(row-1)\n",
    "                        col += 1\n",
    "                        row -= 1\n",
    "\n",
    "            else:\n",
    "                print(\"Found a solution\")\n",
    "                print(self)\n",
    "                while col >= 8:\n",
    "                    col = self.get_queen_on(row-1)\n",
    "                    self.unset_queen_on(row-1)\n",
    "                    col += 1\n",
    "                    row -= 1\n",
    "        print(\"No more solutions\")\n",
    "\n",
    "my_board = Board()\n",
    "print (my_board.search())"
   ]
  }
 ],
 "metadata": {
  "kernelspec": {
   "display_name": "Python 3",
   "language": "python",
   "name": "python3"
  },
  "language_info": {
   "name": "python",
   "version": "3.11.1 (main, Dec  7 2022, 00:00:00) [GCC 12.2.1 20221121 (Red Hat 12.2.1-4)]"
  },
  "orig_nbformat": 4,
  "vscode": {
   "interpreter": {
    "hash": "76ca05dc3ea24b2e3b98cdb7774adfbb40773424bf5109b477fd793f623715af"
   }
  }
 },
 "nbformat": 4,
 "nbformat_minor": 2
}
