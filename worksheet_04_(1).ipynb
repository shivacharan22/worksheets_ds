{
  "cells": [
    {
      "cell_type": "markdown",
      "metadata": {
        "id": "bW9NfZ3Is7Uv"
      },
      "source": [
        "# Worksheet 04\n",
        "\n",
        "Name:  shivacharan oruganti\n",
        "UID: U55255882\n",
        "\n",
        "### Topics\n",
        "\n",
        "- Distance & Similarity"
      ]
    },
    {
      "cell_type": "markdown",
      "metadata": {
        "id": "Jeo0ZjHPs7Ux"
      },
      "source": [
        "### Distance & Similarity\n",
        "\n",
        "#### Part 1\n",
        "\n",
        "a) In the minkowski distance, describe what the parameters p and d are."
      ]
    },
    {
      "cell_type": "markdown",
      "metadata": {
        "id": "l0e5qnv4s7Ux"
      },
      "source": [
        "1) p is the order of the Minkowski distance, which determines the contribution of each dimension to the total distance. It controls the level of emphasis placed on larger differences between coordinate values.\n",
        "\n",
        "2) d is the number of dimensions or features in the dataset.It corresponds to the number of terms in the summation, each term representing a dimension in the space."
      ]
    },
    {
      "cell_type": "markdown",
      "metadata": {
        "id": "3qmH4MUQs7Uy"
      },
      "source": [
        "b) In your own words describe the difference between the Euclidean distance and the Manhattan distance."
      ]
    },
    {
      "cell_type": "markdown",
      "metadata": {
        "id": "ImqHbBkFs7Uy"
      },
      "source": [
        "Euclidean distance is calculated as the straight-line distance between two points whereas manhattan distance is calculated as the sum of the absolute differences of the coordinates. Euclidean Distance follows a direct straight-line path between the two points, Manhattan Distance follows a rectilinear path, moving along one axis at a time."
      ]
    },
    {
      "cell_type": "markdown",
      "metadata": {
        "id": "ScOwswops7Uy"
      },
      "source": [
        "Consider A = (0, 0) and B = (1, 1). When:\n",
        "\n",
        "- p = 1, d(A, B) = 2\n",
        "- p = 2, d(A, B) = $\\sqrt{2} = 1.41$\n",
        "- p = 3, d(A, B) = $2^{1/3} = 1.26$\n",
        "- p = 4, d(A, B) = $2^{1/4} = 1.19$\n",
        "\n",
        "c) Describe what you think distance would look like when p is very large."
      ]
    },
    {
      "cell_type": "markdown",
      "metadata": {
        "id": "e_VuEZjAs7Uz"
      },
      "source": [
        "As p becomes very large in the Minkowski distance formula, the highest absolute difference between corresponding coordinates will dominate the summation because it will have a much higher power. Therefore, other smaller differences become negligible, and the distance is mostly determined by the maximum absolute difference"
      ]
    },
    {
      "cell_type": "markdown",
      "metadata": {
        "id": "-1bKu1ubs7Uz"
      },
      "source": [
        "d) Is the minkowski distance still a distance function when p < 1? Expain why / why not."
      ]
    },
    {
      "cell_type": "markdown",
      "metadata": {
        "id": "fbqWpWMRs7U0"
      },
      "source": [
        "The Minkowski distance is not a valid distance metric when p<1 because it violates the properties of a distance metric(the triangle inequality)."
      ]
    },
    {
      "cell_type": "markdown",
      "metadata": {
        "id": "t420pY2Ss7U0"
      },
      "source": [
        "e) when would you use cosine similarity over the euclidan distance?"
      ]
    },
    {
      "cell_type": "markdown",
      "metadata": {
        "id": "K10cS1E_s7U0"
      },
      "source": [
        "When we care about the direction of the vectors."
      ]
    },
    {
      "cell_type": "markdown",
      "metadata": {
        "id": "mmo3P1xbs7U0"
      },
      "source": [
        "f) what does the jaccard distance account for that the manhattan distance doesn't?"
      ]
    },
    {
      "cell_type": "markdown",
      "metadata": {
        "id": "dDpeZlT4s7U0"
      },
      "source": [
        "Direction of vectors."
      ]
    },
    {
      "cell_type": "markdown",
      "metadata": {
        "id": "parqZ6Y8s7U1"
      },
      "source": [
        "#### Part 2\n",
        "\n",
        "Consider the following two sentences:"
      ]
    },
    {
      "cell_type": "code",
      "execution_count": 2,
      "metadata": {
        "id": "Yy-2UPYns7U1"
      },
      "outputs": [],
      "source": [
        "s1 = \"hello my name is Alice\"\n",
        "s2 = \"hello my name is Bob\""
      ]
    },
    {
      "cell_type": "markdown",
      "metadata": {
        "id": "FjYPZ0Fhs7U1"
      },
      "source": [
        "using the union of words from both sentences, we can represent each sentence as a vector. Each element of the vector represents the presence or absence of the word at that index.\n",
        "\n",
        "In this example, the union of words is (\"hello\", \"my\", \"name\", \"is\", \"Alice\", \"Bob\") so we can represent the above sentences as such:"
      ]
    },
    {
      "cell_type": "code",
      "execution_count": 3,
      "metadata": {
        "id": "V9jLYZPys7U1"
      },
      "outputs": [],
      "source": [
        "v1 = [1,    1, 1,   1, 1,    0]\n",
        "#     hello my name is Alice\n",
        "v2 = [1,    1, 1,   1, 0, 1]\n",
        "#     hello my name is    Bob"
      ]
    },
    {
      "cell_type": "markdown",
      "metadata": {
        "id": "bXa4ALqZs7U2"
      },
      "source": [
        "Programmatically, we can do the following:"
      ]
    },
    {
      "cell_type": "code",
      "execution_count": 4,
      "metadata": {
        "colab": {
          "base_uri": "https://localhost:8080/"
        },
        "id": "PgnHczWNs7U2",
        "outputId": "12b3dcbf-5f0f-4748-f363-dd91a6c61807"
      },
      "outputs": [
        {
          "output_type": "stream",
          "name": "stdout",
          "text": [
            "['Alice', 'my', 'name', 'hello', 'Bob', 'is']\n",
            "[1, 1, 1, 1, 0, 1]\n"
          ]
        }
      ],
      "source": [
        "corpus = [s1, s2]\n",
        "all_words = list(set([item for x in corpus for item in x.split()]))\n",
        "print(all_words)\n",
        "v1 = [1 if x in s1 else 0 for x in all_words]\n",
        "print(v1)"
      ]
    },
    {
      "cell_type": "markdown",
      "metadata": {
        "id": "lGbMT1bps7U2"
      },
      "source": [
        "Let's add a new sentence to our corpus:"
      ]
    },
    {
      "cell_type": "code",
      "execution_count": 5,
      "metadata": {
        "id": "ne5LQUbfs7U2"
      },
      "outputs": [],
      "source": [
        "s3 = \"hi my name is Claude\"\n",
        "corpus.append(s3)"
      ]
    },
    {
      "cell_type": "markdown",
      "metadata": {
        "id": "iSotWcmts7U3"
      },
      "source": [
        "a) What is the new union of words used to represent s1, s2, and s3?"
      ]
    },
    {
      "cell_type": "code",
      "execution_count": 7,
      "metadata": {
        "id": "hVolJ8iMs7U3"
      },
      "outputs": [],
      "source": [
        "the_union_of_words = (\"hello\", \"my\", \"name\", \"is\", \"Alice\", \"Bob\", \"hi\", \"Claude\")"
      ]
    },
    {
      "cell_type": "markdown",
      "metadata": {
        "id": "SSvlzpRJs7U3"
      },
      "source": [
        "b) Represent s1, s2, and s3 as vectors as above, using this new set of words."
      ]
    },
    {
      "cell_type": "code",
      "execution_count": 9,
      "metadata": {
        "colab": {
          "base_uri": "https://localhost:8080/"
        },
        "id": "hy85Iie4s7U3",
        "outputId": "3aa65442-b257-429d-bb6e-fc1363a4add7"
      },
      "outputs": [
        {
          "output_type": "stream",
          "name": "stdout",
          "text": [
            "['Alice', 'my', 'name', 'Claude', 'hello', 'Bob', 'is', 'hi']\n",
            "[1, 1, 1, 0, 1, 0, 1, 0]\n",
            "[0, 1, 1, 0, 1, 1, 1, 0]\n",
            "[0, 1, 1, 1, 0, 0, 1, 1]\n"
          ]
        }
      ],
      "source": [
        "all_words = list(set([item for x in corpus for item in x.split()]))\n",
        "print(all_words)\n",
        "v1 = [1 if x in s1 else 0 for x in all_words]\n",
        "print(v1)\n",
        "v2 = [1 if x in s2 else 0 for x in all_words]\n",
        "print(v2)\n",
        "v3 = [1 if x in s3 else 0 for x in all_words]\n",
        "print(v3)"
      ]
    },
    {
      "cell_type": "markdown",
      "metadata": {
        "id": "AzXRgrnSs7U3"
      },
      "source": [
        "c) Write a function that computes the manhattan distance between two vectors. Which pair of vectors are the most similar under that distance function?"
      ]
    },
    {
      "cell_type": "code",
      "execution_count": 10,
      "metadata": {
        "id": "N2KG_lzLs7U3"
      },
      "outputs": [],
      "source": [
        "def manhattan_distance(vector1, vector2):\n",
        "    if len(vector1) != len(vector2):\n",
        "        raise ValueError(\"Vectors must be of the same length\")\n",
        "    return sum(abs(a - b) for a, b in zip(vector1, vector2))"
      ]
    },
    {
      "cell_type": "markdown",
      "metadata": {
        "id": "6whVQbk9s7U3"
      },
      "source": [
        "V1 and V3 \\\\\n",
        "V2 and V3"
      ]
    },
    {
      "cell_type": "markdown",
      "metadata": {
        "id": "v9Kid86us7U3"
      },
      "source": [
        "d) Create a matrix of all these vectors (row major) and add the following sentences in vector form:\n",
        "\n",
        "- \"hi Alice\"\n",
        "- \"hello Claude\"\n",
        "- \"Bob my name is Claude\"\n",
        "- \"hi Claude my name is Alice\"\n",
        "- \"hello Bob\""
      ]
    },
    {
      "cell_type": "code",
      "execution_count": 17,
      "metadata": {
        "id": "kQdXJrwHs7U3"
      },
      "outputs": [],
      "source": [
        "import numpy as np\n",
        "matrix = np.array([[1, 1, 0, 0, 0, 0, 0, 0],\n",
        "  [0, 0, 1, 1, 0, 0, 0, 0],\n",
        "  [0, 0, 0, 1, 1, 1, 1, 1],\n",
        "  [1, 1, 0, 1, 0, 1, 1, 1],\n",
        "  [0, 0, 1, 0, 1, 0, 0, 0]])"
      ]
    },
    {
      "cell_type": "markdown",
      "metadata": {
        "id": "Li4ItMwas7U4"
      },
      "source": [
        "e) How many rows and columns does this matrix have?"
      ]
    },
    {
      "cell_type": "code",
      "execution_count": 18,
      "metadata": {
        "colab": {
          "base_uri": "https://localhost:8080/"
        },
        "id": "YzaiZQcjs7U4",
        "outputId": "36108693-f1a6-4ddd-950d-8553ef918568"
      },
      "outputs": [
        {
          "output_type": "execute_result",
          "data": {
            "text/plain": [
              "(5, 8)"
            ]
          },
          "metadata": {},
          "execution_count": 18
        }
      ],
      "source": [
        "#5 rows and 8 columns\n",
        "matrix.shape"
      ]
    },
    {
      "cell_type": "markdown",
      "metadata": {
        "id": "fFFS0QNZs7U4"
      },
      "source": [
        "f) When using the Manhattan distance, which two sentences are the most similar?"
      ]
    },
    {
      "cell_type": "code",
      "execution_count": 19,
      "metadata": {
        "colab": {
          "base_uri": "https://localhost:8080/"
        },
        "id": "n9_ZQsRVs7U4",
        "outputId": "865e518b-119b-496b-ad6c-1f42df88e7ac"
      },
      "outputs": [
        {
          "output_type": "execute_result",
          "data": {
            "text/plain": [
              "2"
            ]
          },
          "metadata": {},
          "execution_count": 19
        }
      ],
      "source": [
        "#\"hello Claude\"\n",
        "#\"hello Bob\"\n",
        "#the above are the most similar with value 2.\n",
        "manhattan_distance(matrix[1], matrix[4])"
      ]
    },
    {
      "cell_type": "markdown",
      "metadata": {
        "id": "KPXR5AARs7U4"
      },
      "source": []
    }
  ],
  "metadata": {
    "kernelspec": {
      "display_name": "Python 3",
      "language": "python",
      "name": "python3"
    },
    "language_info": {
      "codemirror_mode": {
        "name": "ipython",
        "version": 3
      },
      "file_extension": ".py",
      "mimetype": "text/x-python",
      "name": "python",
      "nbconvert_exporter": "python",
      "pygments_lexer": "ipython3",
      "version": "3.11.2"
    },
    "orig_nbformat": 4,
    "vscode": {
      "interpreter": {
        "hash": "179632a4d4626cbfb2323a1d515f3f642c26af919d5cc9d125c3847932a0b109"
      }
    },
    "colab": {
      "provenance": []
    }
  },
  "nbformat": 4,
  "nbformat_minor": 0
}